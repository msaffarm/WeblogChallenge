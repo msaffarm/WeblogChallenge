{
 "cells": [
  {
   "cell_type": "code",
   "execution_count": 1,
   "metadata": {},
   "outputs": [],
   "source": [
    "from pathlib import Path\n",
    "import os\n",
    "import sys\n",
    "import logging\n",
    "logger = logging.getLogger()\n",
    "logger.setLevel(logging.INFO)\n",
    "\n",
    "\n",
    "CURRENT_DIR = Path(os.path.dirname(''))\n",
    "UTILS_DIR = CURRENT_DIR / '../utils'\n",
    "DATA_DIR = CURRENT_DIR / '../data'\n",
    "# add UTILS_DIR to system path so we can use it\n",
    "sys.path.append(UTILS_DIR.absolute().as_posix())\n"
   ]
  },
  {
   "cell_type": "code",
   "execution_count": 2,
   "metadata": {},
   "outputs": [],
   "source": [
    "from pyspark import SparkContext, SparkConf\n",
    "conf = SparkConf().set(\"spark.executor.memory\", \"4g\").set('spark.driver.memory', '10g').\\\n",
    "                    setMaster('local[20]').setAppName('WebLogAnalysis')\n",
    "sc = SparkContext(conf = conf)\n",
    "\n",
    "# import spark.sql\n",
    "from pyspark.sql import SparkSession\n",
    "spark = SparkSession(sc)"
   ]
  },
  {
   "cell_type": "code",
   "execution_count": 3,
   "metadata": {},
   "outputs": [
    {
     "name": "stdout",
     "output_type": "stream",
     "text": [
      "gzip: /home/jovyan/work/experiments/../data/2015_07_22_mktplace_shop_web_log_sample.log.gz: No such file or directory\r\n"
     ]
    }
   ],
   "source": [
    "# unpack the data if not already done\n",
    "comp_data_path = DATA_DIR / '2015_07_22_mktplace_shop_web_log_sample.log.gz'\n",
    "comp_data_path_str = comp_data_path.absolute().as_posix()\n",
    "! gunzip $comp_data_path_str\n",
    "data_path = (DATA_DIR / '2015_07_22_mktplace_shop_web_log_sample.log').absolute().as_posix()"
   ]
  },
  {
   "cell_type": "code",
   "execution_count": 4,
   "metadata": {},
   "outputs": [],
   "source": [
    "column_names = ['timestamp', 'elb', 'client_port', 'backend_port', 'request_processing_time',\n",
    "               'backend_processing_time', 'response_processing_time', 'elb_status_code',\n",
    "                'backend_status_code', 'received_bytes', 'sent_bytes', 'request',\n",
    "                'user_agent', 'ssl_cipher', 'ssl_protocol'\n",
    "               ]\n",
    "colname_to_idx = dict(zip(column_names, range(len(column_names))))\n",
    "\n",
    "from pyspark.sql.types import *\n",
    "\n",
    "schema = StructType([\n",
    "    StructField('timestamp', TimestampType(), False),\n",
    "    StructField('elb', StringType(), False),\n",
    "    StructField('client_port', StringType(), False),\n",
    "    StructField('backend_port', StringType(), False),\n",
    "    StructField('request_processing_time', DoubleType(), False),\n",
    "    StructField('backend_processing_time', DoubleType(), False),\n",
    "    StructField('response_processing_time', DoubleType(), False),\n",
    "    StructField('elb_status_code', StringType(), False),\n",
    "    StructField('backend_status_code', StringType(), False),\n",
    "    StructField('received_bytes', IntegerType(), False),\n",
    "    StructField('sent_bytes', IntegerType(), False),\n",
    "    StructField('request', StringType(), False),\n",
    "    StructField('user_agent', StringType(), False),\n",
    "    StructField('ssl_cipher', StringType(), False),\n",
    "    StructField('ssl_protocol', StringType(), False)\n",
    "])"
   ]
  },
  {
   "cell_type": "code",
   "execution_count": 5,
   "metadata": {},
   "outputs": [],
   "source": [
    "import dateutil.parser\n",
    "import re\n",
    "\n",
    "def parse_line(line):\n",
    "\n",
    "    pattern = r'^(.*?)\"(.*?)\" \"(.*?)\"(.*?)$'\n",
    "    parts = re.findall(pattern,line)[0]\n",
    "    all_data_fields = parts[0].strip().split() + [parts[1].strip()] + [parts[2].strip()] + parts[3].strip().split()\n",
    "\n",
    "    # convert timestamp to datetime\n",
    "    all_data_fields[colname_to_idx['timestamp']] = dateutil.parser.parse(all_data_fields[colname_to_idx['timestamp']])\n",
    "    # convert request_processing_time, backend_processing_time, response_processing_time to float\n",
    "    all_data_fields[colname_to_idx['request_processing_time']] = float(all_data_fields[colname_to_idx['request_processing_time']])\n",
    "    all_data_fields[colname_to_idx['backend_processing_time']] = float(all_data_fields[colname_to_idx['backend_processing_time']])\n",
    "    all_data_fields[colname_to_idx['response_processing_time']] = float(all_data_fields[colname_to_idx['response_processing_time']])\n",
    "    # convert bytes to integer\n",
    "    all_data_fields[colname_to_idx['received_bytes']] = int(all_data_fields[colname_to_idx['received_bytes']])\n",
    "    all_data_fields[colname_to_idx['sent_bytes']] = int(all_data_fields[colname_to_idx['sent_bytes']])    \n",
    "    \n",
    "    return all_data_fields\n"
   ]
  },
  {
   "cell_type": "code",
   "execution_count": 6,
   "metadata": {},
   "outputs": [],
   "source": [
    "raw_text_file = sc.textFile(data_path)\n",
    "parts = raw_text_file.map(lambda line: parse_line(line))\n",
    "raw_data_df = spark.createDataFrame(parts, schema)\n"
   ]
  },
  {
   "cell_type": "code",
   "execution_count": 7,
   "metadata": {},
   "outputs": [
    {
     "data": {
      "text/plain": [
       "1158500"
      ]
     },
     "execution_count": 7,
     "metadata": {},
     "output_type": "execute_result"
    }
   ],
   "source": [
    "raw_data_df.count()"
   ]
  },
  {
   "cell_type": "markdown",
   "metadata": {},
   "source": [
    "# Sessionize dataset\n",
    "Sessionize the web log by IP. Sessionize = aggregrate all page hits by visitor/IP during a session"
   ]
  },
  {
   "cell_type": "code",
   "execution_count": 8,
   "metadata": {},
   "outputs": [],
   "source": [
    "import pyspark.sql as pysql\n",
    "import pyspark.sql.functions as F\n",
    "from pyspark.sql.types import *"
   ]
  },
  {
   "cell_type": "code",
   "execution_count": 9,
   "metadata": {},
   "outputs": [],
   "source": [
    "# add IP to columns\n",
    "fn = F.udf(lambda x:x.split(':')[0], StringType())\n",
    "df_with_ip = raw_data_df.withColumn('IP', fn(raw_data_df.client_port))"
   ]
  },
  {
   "cell_type": "code",
   "execution_count": 10,
   "metadata": {},
   "outputs": [
    {
     "name": "stdout",
     "output_type": "stream",
     "text": [
      "+--------------------------+----------------+---------------------+-------------+-----------------------+-----------------------+------------------------+---------------+-------------------+--------------+----------+----------------------------------------------------------------------------------------------------------------+-----------------------------------------------------------------------------------------------------------------------------------------+---------------------------+------------+---------------+\n",
      "|timestamp                 |elb             |client_port          |backend_port |request_processing_time|backend_processing_time|response_processing_time|elb_status_code|backend_status_code|received_bytes|sent_bytes|request                                                                                                         |user_agent                                                                                                                               |ssl_cipher                 |ssl_protocol|IP             |\n",
      "+--------------------------+----------------+---------------------+-------------+-----------------------+-----------------------+------------------------+---------------+-------------------+--------------+----------+----------------------------------------------------------------------------------------------------------------+-----------------------------------------------------------------------------------------------------------------------------------------+---------------------------+------------+---------------+\n",
      "|2015-07-22 09:00:28.019143|marketpalce-shop|123.242.248.130:54635|10.0.6.158:80|2.2E-5                 |0.026109               |2.0E-5                  |200            |200                |0             |699       |GET https://paytm.com:443/shop/authresponse?code=f2405b05-e2ee-4b0d-8f6a-9fed0fcfe2e0&state=null HTTP/1.1       |Mozilla/5.0 (Windows NT 6.1; WOW64) AppleWebKit/537.36 (KHTML, like Gecko) Chrome/43.0.2357.130 Safari/537.36                            |ECDHE-RSA-AES128-GCM-SHA256|TLSv1.2     |123.242.248.130|\n",
      "|2015-07-22 09:00:27.89458 |marketpalce-shop|203.91.211.44:51402  |10.0.4.150:80|2.4E-5                 |0.15334                |2.6E-5                  |200            |200                |0             |1497      |GET https://paytm.com:443/shop/wallet/txnhistory?page_size=10&page_number=0&channel=web&version=2 HTTP/1.1      |Mozilla/5.0 (Windows NT 6.1; rv:39.0) Gecko/20100101 Firefox/39.0                                                                        |ECDHE-RSA-AES128-GCM-SHA256|TLSv1.2     |203.91.211.44  |\n",
      "|2015-07-22 09:00:27.885745|marketpalce-shop|1.39.32.179:56419    |10.0.4.244:80|2.4E-5                 |0.164958               |1.7E-5                  |200            |200                |0             |157       |GET https://paytm.com:443/shop/wallet/txnhistory?page_size=10&page_number=0&channel=web&version=2 HTTP/1.1      |Mozilla/5.0 (Windows NT 6.1) AppleWebKit/537.36 (KHTML, like Gecko) Chrome/43.0.2357.134 Safari/537.36                                   |ECDHE-RSA-AES128-GCM-SHA256|TLSv1.2     |1.39.32.179    |\n",
      "|2015-07-22 09:00:28.048369|marketpalce-shop|180.179.213.94:48725 |10.0.6.108:80|2.0E-5                 |0.002333               |2.1E-5                  |200            |200                |0             |35734     |GET https://paytm.com:443/shop/p/micromax-yu-yureka-moonstone-grey-MOBMICROMAX-YU-DUMM141CD60AF7C_34315 HTTP/1.0|-                                                                                                                                        |ECDHE-RSA-AES128-GCM-SHA256|TLSv1.2     |180.179.213.94 |\n",
      "|2015-07-22 09:00:28.036251|marketpalce-shop|120.59.192.208:13527 |10.0.4.217:80|2.4E-5                 |0.015091               |1.6E-5                  |200            |200                |68            |640       |POST https://paytm.com:443/papi/v1/expresscart/verify HTTP/1.1                                                  |Mozilla/5.0 (Windows NT 6.1; WOW64) AppleWebKit/537.36 (KHTML, like Gecko) Chrome/44.0.2403.89 Safari/537.36                             |ECDHE-RSA-AES128-GCM-SHA256|TLSv1.2     |120.59.192.208 |\n",
      "|2015-07-22 09:00:28.033793|marketpalce-shop|117.239.195.66:50524 |10.0.6.195:80|2.4E-5                 |0.02157                |2.1E-5                  |200            |200                |0             |60        |GET https://paytm.com:443/api/user/favourite?channel=web&version=2 HTTP/1.1                                     |Mozilla/5.0 (Windows NT 6.1) AppleWebKit/537.36 (KHTML, like Gecko) Chrome/43.0.2357.134 Safari/537.36                                   |ECDHE-RSA-AES128-GCM-SHA256|TLSv1.2     |117.239.195.66 |\n",
      "|2015-07-22 09:00:28.055029|marketpalce-shop|101.60.186.26:33177  |10.0.4.244:80|2.0E-5                 |0.001098               |2.2E-5                  |200            |200                |0             |1150      |GET https://paytm.com:443/favicon.ico HTTP/1.1                                                                  |Mozilla/5.0 (Windows NT 6.3; rv:27.0) Gecko/20100101 Firefox/27.0                                                                        |ECDHE-RSA-AES128-GCM-SHA256|TLSv1.2     |101.60.186.26  |\n",
      "|2015-07-22 09:00:28.050298|marketpalce-shop|59.183.41.47:62014   |10.0.4.227:80|2.1E-5                 |0.008161               |2.1E-5                  |200            |200                |0             |72        |GET https://paytm.com:443/papi/rr/products/6937770/statistics?channel=web&version=2 HTTP/1.1                    |Mozilla/5.0 (Windows NT 6.3; WOW64) AppleWebKit/537.36 (KHTML, like Gecko) Chrome/43.0.2357.134 Safari/537.36                            |ECDHE-RSA-AES128-GCM-SHA256|TLSv1.2     |59.183.41.47   |\n",
      "|2015-07-22 09:00:28.059081|marketpalce-shop|117.239.195.66:50538 |10.0.4.227:80|1.9E-5                 |0.001035               |2.1E-5                  |200            |200                |0             |396       |GET https://paytm.com:443/images/greyStar.png HTTP/1.1                                                          |Mozilla/5.0 (Windows NT 6.1) AppleWebKit/537.36 (KHTML, like Gecko) Chrome/43.0.2357.134 Safari/537.36                                   |ECDHE-RSA-AES128-GCM-SHA256|TLSv1.2     |117.239.195.66 |\n",
      "|2015-07-22 09:00:28.054939|marketpalce-shop|183.83.237.83:49687  |10.0.6.108:80|2.3E-5                 |0.008762               |2.1E-5                  |200            |200                |0             |214       |GET https://paytm.com:443/shop/cart?channel=web&version=2 HTTP/1.1                                              |Mozilla/5.0 (Windows NT 6.1; WOW64) AppleWebKit/537.36 (KHTML, like Gecko) Chrome/43.0.2357.124 Safari/537.36                            |ECDHE-RSA-AES128-GCM-SHA256|TLSv1.2     |183.83.237.83  |\n",
      "|2015-07-22 09:00:28.064841|marketpalce-shop|117.195.91.36:25902  |10.0.6.199:80|1.9E-5                 |0.002359               |2.2E-5                  |200            |200                |0             |16744     |GET https://paytm.com:443/offer?utm_source=Affiliates&utm_medium=OMG&utm_campaign=OMG&utm_term=762154_ HTTP/1.1 |Mozilla/5.0 (Windows NT 6.1; WOW64; Trident/7.0; rv:11.0) like Gecko                                                                     |ECDHE-RSA-AES128-SHA256    |TLSv1.2     |117.195.91.36  |\n",
      "|2015-07-22 09:00:28.064229|marketpalce-shop|122.180.245.251:50203|10.0.6.108:80|2.2E-5                 |0.003904               |2.2E-5                  |200            |200                |0             |14169     |GET https://paytm.com:443/shop/summary/1116218422 HTTP/1.1                                                      |Mozilla/5.0 (Windows NT 6.1; WOW64) AppleWebKit/537.36 (KHTML, like Gecko) Chrome/43.0.2357.134 Safari/537.36                            |ECDHE-RSA-AES128-GCM-SHA256|TLSv1.2     |122.180.245.251|\n",
      "|2015-07-22 09:00:28.057527|marketpalce-shop|117.198.215.20:53517 |10.0.6.195:80|2.2E-5                 |0.011078               |1.5E-5                  |200            |200                |0             |8334      |GET https://paytm.com:443/blog/wp-content/themes/svbtle/style.css HTTP/1.1                                      |Mozilla/5.0 (Windows NT 6.3; WOW64) AppleWebKit/537.36 (KHTML, like Gecko) Chrome/44.0.2403.89 Safari/537.36                             |ECDHE-RSA-AES128-GCM-SHA256|TLSv1.2     |117.198.215.20 |\n",
      "|2015-07-22 09:00:28.068481|marketpalce-shop|223.176.154.91:51582 |10.0.6.108:80|2.2E-5                 |0.001926               |2.1E-5                  |302            |302                |0             |534       |GET https://paytm.com:443/shop/login?isIframe=true&theme=mp-html5 HTTP/1.1                                      |Mozilla/5.0 (Linux; Android 4.2.2; GT-I9082 Build/JDQ39) AppleWebKit/537.36 (KHTML, like Gecko) Chrome/36.0.1985.135 Mobile Safari/537.36|ECDHE-RSA-AES128-GCM-SHA256|TLSv1.2     |223.176.154.91 |\n",
      "|2015-07-22 09:00:28.002726|marketpalce-shop|223.225.236.110:32279|10.0.4.176:80|2.5E-5                 |0.069531               |2.1E-5                  |200            |200                |105           |532       |POST https://paytm.com:443/api/v1/expresscart/checkout?wallet=1 HTTP/1.1                                        |Mozilla/5.0 (iPhone; CPU iPhone OS 6_1_2 like Mac OS X) AppleWebKit/536.26 (KHTML, like Gecko) Version/6.0 Mobile/10B146 Safari/8536.25  |ECDHE-RSA-AES128-SHA256    |TLSv1.2     |223.225.236.110|\n",
      "|2015-07-22 09:00:28.0647  |marketpalce-shop|117.241.97.140:51029 |10.0.6.178:80|2.1E-5                 |0.011796               |1.5E-5                  |200            |200                |0             |228       |GET https://paytm.com:443/shop/cart?channel=web&version=2 HTTP/1.1                                              |Mozilla/5.0 (Windows NT 6.1; WOW64) AppleWebKit/537.36 (KHTML, like Gecko) Chrome/43.0.2357.134 Safari/537.36                            |ECDHE-RSA-AES128-GCM-SHA256|TLSv1.2     |117.241.97.140 |\n",
      "|2015-07-22 09:00:28.05902 |marketpalce-shop|117.205.247.140:53039|10.0.4.244:80|2.1E-5                 |0.021522               |2.1E-5                  |449            |449                |97            |252       |POST https://paytm.com:443/papi/v1/expresscart/verify HTTP/1.1                                                  |Mozilla/5.0 (Windows NT 6.1) AppleWebKit/537.36 (KHTML, like Gecko) Chrome/43.0.2357.134 Safari/537.36                                   |ECDHE-RSA-AES128-GCM-SHA256|TLSv1.2     |117.205.247.140|\n",
      "|2015-07-22 09:00:28.071994|marketpalce-shop|14.102.53.58:4252    |10.0.6.108:80|2.3E-5                 |0.018186               |1.5E-5                  |406            |406                |71            |166       |POST https://paytm.com:443/shop/cart HTTP/1.1                                                                   |Mozilla/5.0 (Windows NT 5.1) AppleWebKit/537.36 (KHTML, like Gecko) Chrome/43.0.2357.130 Safari/537.36                                   |ECDHE-RSA-AES128-GCM-SHA256|TLSv1.2     |14.102.53.58   |\n",
      "|2015-07-22 09:00:28.069908|marketpalce-shop|203.200.99.67:41874  |10.0.6.195:80|2.1E-5                 |0.020869               |2.0E-5                  |200            |200                |0             |822       |GET https://paytm.com:443/shop/cart?channel=web&version=2 HTTP/1.1                                              |Mozilla/5.0 (Windows NT 6.1) AppleWebKit/537.36 (KHTML, like Gecko) Chrome/43.0.2357.134 Safari/537.36                                   |ECDHE-RSA-AES128-GCM-SHA256|TLSv1.2     |203.200.99.67  |\n",
      "|2015-07-22 09:00:28.019497|marketpalce-shop|107.167.109.204:38565|10.0.4.150:80|2.3E-5                 |0.072252               |2.1E-5                  |302            |302                |189           |74        |POST https://paytm.com:443/ HTTP/1.1                                                                            |Opera/9.80 (Windows Phone; Opera Mini/8.0.4/37.6066; U; en) Presto/2.12.423 Version/12.16                                                |ECDHE-RSA-AES128-SHA       |TLSv1       |107.167.109.204|\n",
      "+--------------------------+----------------+---------------------+-------------+-----------------------+-----------------------+------------------------+---------------+-------------------+--------------+----------+----------------------------------------------------------------------------------------------------------------+-----------------------------------------------------------------------------------------------------------------------------------------+---------------------------+------------+---------------+\n",
      "only showing top 20 rows\n",
      "\n"
     ]
    }
   ],
   "source": [
    "df_with_ip.show(truncate=False)"
   ]
  },
  {
   "cell_type": "code",
   "execution_count": 11,
   "metadata": {},
   "outputs": [],
   "source": [
    "# session time is set to 15 mins\n",
    "session_time_seconds = 15*60\n",
    "\n",
    "# define session window function!\n",
    "time_diff_fn = pysql.Window.partitionBy('IP').orderBy('timestamp')\n",
    "\n",
    "# add previous timestamp to each row\n",
    "df_temp1 = df_with_ip.withColumn('prevtimestamp', F.lag('timestamp',1).over(time_diff_fn))\n",
    "\n",
    "# compute the difference between timestamps for each row\n",
    "df_temp2 = df_temp1.withColumn('diff',\\\n",
    "                 F.when(F.isnull(F.unix_timestamp(df_temp1.timestamp)-F.unix_timestamp(df_temp1.prevtimestamp)),0)\\\n",
    "                 .otherwise(F.unix_timestamp(df_temp1.timestamp)-F.unix_timestamp(df_temp1.prevtimestamp)))\n",
    "\n",
    "# set flag for each row if new session is detected!\n",
    "df_temp3 = df_temp2.withColumn('is_new_session', F.when(df_temp2.diff > 15*60, 1).otherwise(0))\n",
    "\n",
    "# create a session_id column for each user (IP). We need to create a window to look at all rows (for each IP)\n",
    "# from the beggining till the current row. Note that rows are sorted by timestamp.\n",
    "new_sess_window_fn = pysql.Window.partitionBy('IP').orderBy('timestamp').\\\n",
    "                  rowsBetween(pysql.Window.unboundedPreceding,pysql.Window.currentRow)\n",
    "\n",
    "df_with_session_id = df_temp3.withColumn('session_id', F.sum('is_new_session').over(new_sess_window_fn))"
   ]
  },
  {
   "cell_type": "code",
   "execution_count": 12,
   "metadata": {},
   "outputs": [
    {
     "name": "stdout",
     "output_type": "stream",
     "text": [
      "+--------------------------+----------------+------------------+-------------+-----------------------+-----------------------+------------------------+---------------+-------------------+--------------+----------+----------------------------------------------------------------------------------------------------------------+-------------------------------------------------------------------------------------------------------------+---------------------------+------------+------------+--------------------------+----+--------------+----------+\n",
      "|timestamp                 |elb             |client_port       |backend_port |request_processing_time|backend_processing_time|response_processing_time|elb_status_code|backend_status_code|received_bytes|sent_bytes|request                                                                                                         |user_agent                                                                                                   |ssl_cipher                 |ssl_protocol|IP          |prevtimestamp             |diff|is_new_session|session_id|\n",
      "+--------------------------+----------------+------------------+-------------+-----------------------+-----------------------+------------------------+---------------+-------------------+--------------+----------+----------------------------------------------------------------------------------------------------------------+-------------------------------------------------------------------------------------------------------------+---------------------------+------------+------------+--------------------------+----+--------------+----------+\n",
      "|2015-07-22 16:14:36.308131|marketpalce-shop|1.186.143.37:11395|10.0.4.150:80|2.3E-5                 |0.004619               |2.0E-5                  |200            |200                |0             |13989     |GET https://paytm.com:443/ HTTP/1.1                                                                             |Mozilla/5.0 (Windows NT 6.1; WOW64; rv:39.0) Gecko/20100101 Firefox/39.0                                     |ECDHE-RSA-AES128-GCM-SHA256|TLSv1.2     |1.186.143.37|null                      |0   |0             |0         |\n",
      "|2015-07-22 16:14:44.846873|marketpalce-shop|1.186.143.37:11395|10.0.6.108:80|2.5E-5                 |0.008939               |2.1E-5                  |200            |200                |0             |215       |GET https://paytm.com:443/shop/cart?channel=web&version=2 HTTP/1.1                                              |Mozilla/5.0 (Windows NT 6.1; WOW64; rv:39.0) Gecko/20100101 Firefox/39.0                                     |ECDHE-RSA-AES128-GCM-SHA256|TLSv1.2     |1.186.143.37|2015-07-22 16:14:36.308131|8   |0             |0         |\n",
      "|2015-07-22 02:43:31.135201|marketpalce-shop|1.187.164.29:49414|10.0.4.244:80|2.1E-5                 |0.006038               |2.1E-5                  |200            |200                |0             |13980     |GET https://paytm.com:443/shop?utm_source=Affiliates&utm_medium=VCOMM&utm_campaign=VCOMM&utm_term=24890 HTTP/1.1|Mozilla/5.0 (Windows NT 6.1; rv:39.0) Gecko/20100101 Firefox/39.0                                            |ECDHE-RSA-AES128-GCM-SHA256|TLSv1.2     |1.187.164.29|null                      |0   |0             |0         |\n",
      "|2015-07-22 02:43:42.735304|marketpalce-shop|1.187.164.29:49414|10.0.6.158:80|2.6E-5                 |0.005846               |2.4E-5                  |200            |200                |0             |215       |GET https://paytm.com:443/shop/cart?channel=web&version=2 HTTP/1.1                                              |Mozilla/5.0 (Windows NT 6.1; rv:39.0) Gecko/20100101 Firefox/39.0                                            |ECDHE-RSA-AES128-GCM-SHA256|TLSv1.2     |1.187.164.29|2015-07-22 02:43:31.135201|11  |0             |0         |\n",
      "|2015-07-22 02:43:47.685225|marketpalce-shop|1.187.164.29:49414|10.0.6.199:80|2.4E-5                 |0.002448               |2.3E-5                  |302            |302                |0             |530       |GET https://paytm.com:443/shop/login?isIframe=true&theme=mp-web HTTP/1.1                                        |Mozilla/5.0 (Windows NT 6.1; rv:39.0) Gecko/20100101 Firefox/39.0                                            |ECDHE-RSA-AES128-GCM-SHA256|TLSv1.2     |1.187.164.29|2015-07-22 02:43:42.735304|5   |0             |0         |\n",
      "|2015-07-22 02:44:19.075268|marketpalce-shop|1.187.164.29:49414|10.0.4.225:80|2.6E-5                 |0.031224               |2.3E-5                  |200            |200                |0             |716       |GET https://paytm.com:443/shop/authresponse?code=d1aa3c22-b32b-41a4-95c8-14097487c261 HTTP/1.1                  |Mozilla/5.0 (Windows NT 6.1; rv:39.0) Gecko/20100101 Firefox/39.0                                            |ECDHE-RSA-AES128-GCM-SHA256|TLSv1.2     |1.187.164.29|2015-07-22 02:43:47.685225|32  |0             |0         |\n",
      "|2015-07-22 02:44:20.084871|marketpalce-shop|1.187.164.29:49414|10.0.4.244:80|2.6E-5                 |0.02692                |2.2E-5                  |302            |302                |0             |17        |GET https://paytm.com:443/shop/v1/frequentorders?channel=web&version=2 HTTP/1.1                                 |Mozilla/5.0 (Windows NT 6.1; rv:39.0) Gecko/20100101 Firefox/39.0                                            |ECDHE-RSA-AES128-GCM-SHA256|TLSv1.2     |1.187.164.29|2015-07-22 02:44:19.075268|1   |0             |0         |\n",
      "|2015-07-22 02:44:21.995557|marketpalce-shop|1.187.164.29:17025|10.0.4.225:80|2.3E-5                 |0.010968               |2.2E-5                  |200            |200                |0             |229       |GET https://paytm.com:443/shop/cart?channel=web&version=2 HTTP/1.1                                              |Mozilla/5.0 (Windows NT 6.1; rv:39.0) Gecko/20100101 Firefox/39.0                                            |ECDHE-RSA-AES128-GCM-SHA256|TLSv1.2     |1.187.164.29|2015-07-22 02:44:20.084871|1   |0             |0         |\n",
      "|2015-07-22 02:44:23.254646|marketpalce-shop|1.187.164.29:49414|10.0.6.108:80|2.5E-5                 |0.153008               |2.2E-5                  |200            |200                |0             |1552      |GET https://paytm.com:443/shop/wallet/txnhistory?page_size=10&page_number=0&channel=web&version=2 HTTP/1.1      |Mozilla/5.0 (Windows NT 6.1; rv:39.0) Gecko/20100101 Firefox/39.0                                            |ECDHE-RSA-AES128-GCM-SHA256|TLSv1.2     |1.187.164.29|2015-07-22 02:44:21.995557|2   |0             |0         |\n",
      "|2015-07-22 02:44:23.295011|marketpalce-shop|1.187.164.29:17025|10.0.4.150:80|2.4E-5                 |0.128042               |2.2E-5                  |200            |200                |0             |217       |GET https://paytm.com:443/shop/wallet/balance?channel=web&version=2 HTTP/1.1                                    |Mozilla/5.0 (Windows NT 6.1; rv:39.0) Gecko/20100101 Firefox/39.0                                            |ECDHE-RSA-AES128-GCM-SHA256|TLSv1.2     |1.187.164.29|2015-07-22 02:44:23.254646|0   |0             |0         |\n",
      "|2015-07-22 02:44:40.245266|marketpalce-shop|1.187.164.29:49414|10.0.4.176:80|2.3E-5                 |0.25406                |2.0E-5                  |200            |200                |55            |2180      |POST https://paytm.com:443/shop/wallet/getP2BModelWindowDetails HTTP/1.1                                        |Mozilla/5.0 (Windows NT 6.1; rv:39.0) Gecko/20100101 Firefox/39.0                                            |ECDHE-RSA-AES128-GCM-SHA256|TLSv1.2     |1.187.164.29|2015-07-22 02:44:23.295011|17  |0             |0         |\n",
      "|2015-07-22 16:42:59.01417 |marketpalce-shop|1.22.41.76:50107  |10.0.6.158:80|2.2E-5                 |0.004841               |1.7E-5                  |200            |200                |0             |13989     |GET https://paytm.com:443/ HTTP/1.1                                                                             |Mozilla/5.0 (Windows NT 6.3; WOW64) AppleWebKit/537.36 (KHTML, like Gecko) Chrome/43.0.2357.134 Safari/537.36|ECDHE-RSA-AES128-GCM-SHA256|TLSv1.2     |1.22.41.76  |null                      |0   |0             |0         |\n",
      "|2015-07-22 16:43:07.155189|marketpalce-shop|1.22.41.76:50107  |10.0.6.108:80|2.3E-5                 |0.010702               |2.1E-5                  |200            |200                |0             |218       |GET https://paytm.com:443/shop/cart?channel=web&version=2 HTTP/1.1                                              |Mozilla/5.0 (Windows NT 6.3; WOW64) AppleWebKit/537.36 (KHTML, like Gecko) Chrome/43.0.2357.134 Safari/537.36|ECDHE-RSA-AES128-GCM-SHA256|TLSv1.2     |1.22.41.76  |2015-07-22 16:42:59.01417 |8   |0             |0         |\n",
      "|2015-07-22 16:43:29.15416 |marketpalce-shop|1.22.41.76:50107  |10.0.6.108:80|2.4E-5                 |0.003923               |1.5E-5                  |200            |200                |0             |13820     |GET https://paytm.com:443/shop/h/electronics/home-appliances?src=gtr1 HTTP/1.1                                  |Mozilla/5.0 (Windows NT 6.3; WOW64) AppleWebKit/537.36 (KHTML, like Gecko) Chrome/43.0.2357.134 Safari/537.36|ECDHE-RSA-AES128-GCM-SHA256|TLSv1.2     |1.22.41.76  |2015-07-22 16:43:07.155189|22  |0             |0         |\n",
      "|2015-07-22 16:43:31.846037|marketpalce-shop|1.22.41.76:50107  |10.0.6.99:80 |2.3E-5                 |0.054064               |2.1E-5                  |200            |200                |0             |218       |GET https://paytm.com:443/shop/cart?channel=web&version=2 HTTP/1.1                                              |Mozilla/5.0 (Windows NT 6.3; WOW64) AppleWebKit/537.36 (KHTML, like Gecko) Chrome/43.0.2357.134 Safari/537.36|ECDHE-RSA-AES128-GCM-SHA256|TLSv1.2     |1.22.41.76  |2015-07-22 16:43:29.15416 |2   |0             |0         |\n",
      "|2015-07-22 16:43:55.687425|marketpalce-shop|1.22.41.76:50107  |10.0.4.225:80|2.2E-5                 |0.003911               |2.0E-5                  |200            |200                |0             |13820     |GET https://paytm.com:443/shop/g/paytm-home/today-s-blockbuster-sale/woodland-up-to-60-cashback HTTP/1.1        |Mozilla/5.0 (Windows NT 6.3; WOW64) AppleWebKit/537.36 (KHTML, like Gecko) Chrome/43.0.2357.134 Safari/537.36|ECDHE-RSA-AES128-GCM-SHA256|TLSv1.2     |1.22.41.76  |2015-07-22 16:43:31.846037|24  |0             |0         |\n",
      "|2015-07-22 16:43:57.475919|marketpalce-shop|1.22.41.76:50107  |10.0.6.199:80|2.3E-5                 |0.010121               |2.1E-5                  |200            |200                |0             |218       |GET https://paytm.com:443/shop/cart?channel=web&version=2 HTTP/1.1                                              |Mozilla/5.0 (Windows NT 6.3; WOW64) AppleWebKit/537.36 (KHTML, like Gecko) Chrome/43.0.2357.134 Safari/537.36|ECDHE-RSA-AES128-GCM-SHA256|TLSv1.2     |1.22.41.76  |2015-07-22 16:43:55.687425|2   |0             |0         |\n",
      "|2015-07-22 16:43:59.375379|marketpalce-shop|1.22.41.76:50107  |10.0.6.99:80 |3.1E-5                 |0.005217               |2.1E-5                  |200            |200                |0             |13820     |GET https://paytm.com:443/shop/h/electronics/computers-accessories HTTP/1.1                                     |Mozilla/5.0 (Windows NT 6.3; WOW64) AppleWebKit/537.36 (KHTML, like Gecko) Chrome/43.0.2357.134 Safari/537.36|ECDHE-RSA-AES128-GCM-SHA256|TLSv1.2     |1.22.41.76  |2015-07-22 16:43:57.475919|2   |0             |0         |\n",
      "|2015-07-22 16:44:01.322622|marketpalce-shop|1.22.41.76:50107  |10.0.6.99:80 |2.7E-5                 |0.009289               |2.3E-5                  |200            |200                |0             |218       |GET https://paytm.com:443/shop/cart?channel=web&version=2 HTTP/1.1                                              |Mozilla/5.0 (Windows NT 6.3; WOW64) AppleWebKit/537.36 (KHTML, like Gecko) Chrome/43.0.2357.134 Safari/537.36|ECDHE-RSA-AES128-GCM-SHA256|TLSv1.2     |1.22.41.76  |2015-07-22 16:43:59.375379|2   |0             |0         |\n",
      "|2015-07-22 17:41:41.431398|marketpalce-shop|1.23.208.26:49923 |10.0.4.244:80|2.2E-5                 |0.007985               |2.1E-5                  |302            |302                |0             |56        |GET https://paytm.com:443/shop/logout?channel=web&version=2 HTTP/1.1                                            |Mozilla/5.0 (Windows NT 6.1; WOW64) AppleWebKit/537.36 (KHTML, like Gecko) Chrome/43.0.2357.134 Safari/537.36|ECDHE-RSA-AES128-GCM-SHA256|TLSv1.2     |1.23.208.26 |null                      |0   |0             |0         |\n",
      "+--------------------------+----------------+------------------+-------------+-----------------------+-----------------------+------------------------+---------------+-------------------+--------------+----------+----------------------------------------------------------------------------------------------------------------+-------------------------------------------------------------------------------------------------------------+---------------------------+------------+------------+--------------------------+----+--------------+----------+\n",
      "only showing top 20 rows\n",
      "\n"
     ]
    }
   ],
   "source": [
    "df_with_session_id.show(20, truncate=False)"
   ]
  },
  {
   "cell_type": "code",
   "execution_count": null,
   "metadata": {},
   "outputs": [],
   "source": []
  }
 ],
 "metadata": {
  "kernelspec": {
   "display_name": "Python 3",
   "language": "python",
   "name": "python3"
  },
  "language_info": {
   "codemirror_mode": {
    "name": "ipython",
    "version": 3
   },
   "file_extension": ".py",
   "mimetype": "text/x-python",
   "name": "python",
   "nbconvert_exporter": "python",
   "pygments_lexer": "ipython3",
   "version": "3.7.3"
  }
 },
 "nbformat": 4,
 "nbformat_minor": 2
}
